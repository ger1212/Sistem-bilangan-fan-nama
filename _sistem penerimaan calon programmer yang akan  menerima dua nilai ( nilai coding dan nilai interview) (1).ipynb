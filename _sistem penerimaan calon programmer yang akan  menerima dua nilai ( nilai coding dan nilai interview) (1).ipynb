{
 "cells": [
  {
   "cell_type": "code",
   "execution_count": 12,
   "id": "ddcfa3eb",
   "metadata": {},
   "outputs": [
    {
     "name": "stdout",
     "output_type": "stream",
     "text": [
      "Masukan nilai coding :90\n",
      "Masukan nilai interview (A/B) :A\n",
      "Selamat Kamu Berhasil Menjadi Calon Programmer\n"
     ]
    }
   ],
   "source": [
    "#input nilai\n",
    "nilai_coding = int(input(\"Masukan nilai coding :\"))\n",
    "nilai_interview = input(\"Masukan nilai interview (A/B) :\")\n",
    "\n",
    "#hasil nilai_coding\n",
    "if nilai_coding > 80:\n",
    "    hasil_coding = \"LOLOS\"\n",
    "elif nilai_coding <= 60 or nilai_coding <= 80:\n",
    "    hasil_coding = \"DIPERTIMBANGKAN\"\n",
    "else:\n",
    "    hasil_coding = \"GAGAL\"\n",
    "    \n",
    "#hasil nilai interview\n",
    "if nilai_interview == 'A' or nilai_interview == 'B':\n",
    "    hasil_interview = \"LOLOS\"\n",
    "else:\n",
    "    hasil_interview = \"GAGAL\"\n",
    "    \n",
    "#output\n",
    "if hasil_coding == \"LOLOS\" or hasil_coding == \"DIPERTIMBANGKAN\" or hasil_interview == \"LOLOS\":\n",
    "    print(\"Selamat Kamu Berhasil Menjadi Calon Programmer\")\n",
    "else:\n",
    "    print(\"Maaf Kamu Belum Berhasil Menjadi Calon Programmer\")"
   ]
  },
  {
   "cell_type": "code",
   "execution_count": null,
   "id": "37cd26fd",
   "metadata": {},
   "outputs": [],
   "source": []
  }
 ],
 "metadata": {
  "kernelspec": {
   "display_name": "Python 3 (ipykernel)",
   "language": "python",
   "name": "python3"
  },
  "language_info": {
   "codemirror_mode": {
    "name": "ipython",
    "version": 3
   },
   "file_extension": ".py",
   "mimetype": "text/x-python",
   "name": "python",
   "nbconvert_exporter": "python",
   "pygments_lexer": "ipython3",
   "version": "3.11.5"
  }
 },
 "nbformat": 4,
 "nbformat_minor": 5
}
